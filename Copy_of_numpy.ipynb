{
  "nbformat": 4,
  "nbformat_minor": 0,
  "metadata": {
    "colab": {
      "provenance": [],
      "authorship_tag": "ABX9TyN1EjLb/grZLgeRgYQFK3B/",
      "include_colab_link": true
    },
    "kernelspec": {
      "name": "python3",
      "display_name": "Python 3"
    },
    "language_info": {
      "name": "python"
    }
  },
  "cells": [
    {
      "cell_type": "markdown",
      "metadata": {
        "id": "view-in-github",
        "colab_type": "text"
      },
      "source": [
        "<a href=\"https://colab.research.google.com/github/TJ-SIVA/blooddonotion/blob/main/Copy_of_numpy.ipynb\" target=\"_parent\"><img src=\"https://colab.research.google.com/assets/colab-badge.svg\" alt=\"Open In Colab\"/></a>"
      ]
    },
    {
      "cell_type": "code",
      "execution_count": null,
      "metadata": {
        "id": "ydYHCoVekJBO"
      },
      "outputs": [],
      "source": [
        "import numpy as np"
      ]
    },
    {
      "cell_type": "code",
      "source": [
        "a =np.arange(1,10).reshape(3,3)'''arange is function like range function in python range create elements with in given range\n",
        "arange used to create an array with contnious values in the given range and the we can reshape it into desire shape but number of\n",
        "elements and size must be compitable '''\n",
        "print(a)"
      ],
      "metadata": {
        "colab": {
          "base_uri": "https://localhost:8080/"
        },
        "id": "OwF1gmXNCm_X",
        "outputId": "73f16111-ec79-4d49-a8f8-3a4e935a4d3d"
      },
      "execution_count": null,
      "outputs": [
        {
          "output_type": "stream",
          "name": "stdout",
          "text": [
            "[[1 2 3]\n",
            " [4 5 6]\n",
            " [7 8 9]]\n"
          ]
        }
      ]
    },
    {
      "cell_type": "code",
      "source": [
        "print(a.ndim)\n",
        "print(a.itemsize)\n",
        "print(a.dtype)\n",
        "print(a.size)\n",
        "print(a.nbytes)\n",
        "print(a.real)"
      ],
      "metadata": {
        "colab": {
          "base_uri": "https://localhost:8080/"
        },
        "id": "9FJI7ZwoDpYq",
        "outputId": "91eca98e-43b9-407d-95d0-8d5da6bb1df5"
      },
      "execution_count": null,
      "outputs": [
        {
          "output_type": "stream",
          "name": "stdout",
          "text": [
            "2\n",
            "8\n",
            "int64\n",
            "9\n",
            "72\n",
            "[[1 2 3]\n",
            " [4 5 6]\n",
            " [7 8 9]]\n"
          ]
        }
      ]
    },
    {
      "cell_type": "code",
      "source": [
        "b = np.ones([3,3])\n",
        "a.dot(b)\n"
      ],
      "metadata": {
        "colab": {
          "base_uri": "https://localhost:8080/"
        },
        "id": "nsHJgxniFLr0",
        "outputId": "b3fdcf2c-fe0d-4762-a664-c0c63673209e"
      },
      "execution_count": null,
      "outputs": [
        {
          "output_type": "execute_result",
          "data": {
            "text/plain": [
              "array([[ 6.,  6.,  6.],\n",
              "       [15., 15., 15.],\n",
              "       [24., 24., 24.]])"
            ]
          },
          "metadata": {},
          "execution_count": 23
        }
      ]
    },
    {
      "cell_type": "code",
      "source": [
        "a =np.linspace(50,101,)\n",
        "a\n"
      ],
      "metadata": {
        "colab": {
          "base_uri": "https://localhost:8080/"
        },
        "id": "OCitmyeRHlxy",
        "outputId": "d6ed2cd3-e4a1-40ef-e7c3-63b3a8996c3c"
      },
      "execution_count": null,
      "outputs": [
        {
          "output_type": "execute_result",
          "data": {
            "text/plain": [
              "array([ 50.       ,  50.0000051,  50.0000102, ..., 100.9999898,\n",
              "       100.9999949, 101.       ])"
            ]
          },
          "metadata": {},
          "execution_count": 39
        }
      ]
    },
    {
      "cell_type": "code",
      "source": [
        "c=np.identity(7,dtype=\"int32\")\n",
        "\n",
        "print(c)\n",
        "print(c.itemsize)"
      ],
      "metadata": {
        "colab": {
          "base_uri": "https://localhost:8080/"
        },
        "id": "sbHwsplLKcMq",
        "outputId": "e3620ce8-a15a-47a1-ed96-f86706e06dd1"
      },
      "execution_count": null,
      "outputs": [
        {
          "output_type": "stream",
          "name": "stdout",
          "text": [
            "[[1 0 0 0 0 0 0]\n",
            " [0 1 0 0 0 0 0]\n",
            " [0 0 1 0 0 0 0]\n",
            " [0 0 0 1 0 0 0]\n",
            " [0 0 0 0 1 0 0]\n",
            " [0 0 0 0 0 1 0]\n",
            " [0 0 0 0 0 0 1]]\n",
            "4\n"
          ]
        }
      ]
    },
    {
      "cell_type": "code",
      "source": [
        "#From [1,2,3,4,5], get elements 2 to 4 using slicing.\n",
        "\n",
        "arr = np.array([1,2,3,4,5])\n",
        "print(arr[1:4])\n",
        "\n",
        "#Replace all odd numbers in an array with -1\n",
        "arr[arr % 2 == 1 ] =-1\n",
        "print(arr)\n",
        "\n",
        "#Reverse a NumPy array without using slicing.\n",
        "\n",
        "print(np.flipud(arr))\n",
        "\n",
        "y = np.array([[1,25,6],[3,6,7],[4,7,8]])\n",
        "print(np.flip(y))"
      ],
      "metadata": {
        "colab": {
          "base_uri": "https://localhost:8080/"
        },
        "id": "S4dVBbYRMXIC",
        "outputId": "d5a07867-842f-4d77-be0f-09f23ea8557d"
      },
      "execution_count": null,
      "outputs": [
        {
          "output_type": "stream",
          "name": "stdout",
          "text": [
            "[2 3 4]\n",
            "[-1  2 -1  4 -1]\n",
            "[-1  4 -1  2 -1]\n",
            "[[ 8  7  4]\n",
            " [ 7  6  3]\n",
            " [ 6 25  1]]\n"
          ]
        }
      ]
    },
    {
      "cell_type": "code",
      "source": [
        "#Add 5 to every element in an array using broadcasting.\n",
        "a = np.array([[1,5,67,8],[3,46,32,4]])\n",
        "b = 5\n",
        "print(a+b)\n",
        "print()\n",
        "\n",
        "\n",
        "#stacking array\n",
        "b=np.array([[1,2,3,7],[4,5,6,8]])\n",
        "print(np.vstack((a,b)))\n",
        "print(np.hstack((a,b)))"
      ],
      "metadata": {
        "colab": {
          "base_uri": "https://localhost:8080/"
        },
        "id": "cmzUg192WW5y",
        "outputId": "7b431aaf-ad7d-42e4-f86c-b00c134c085f"
      },
      "execution_count": null,
      "outputs": [
        {
          "output_type": "stream",
          "name": "stdout",
          "text": [
            "[[ 6 10 72 13]\n",
            " [ 8 51 37  9]]\n",
            "\n",
            "[[ 1  5 67  8]\n",
            " [ 3 46 32  4]\n",
            " [ 1  2  3  7]\n",
            " [ 4  5  6  8]]\n",
            "[[ 1  5 67  8  1  2  3  7]\n",
            " [ 3 46 32  4  4  5  6  8]]\n"
          ]
        }
      ]
    },
    {
      "cell_type": "markdown",
      "source": [
        "1. Navigation: Robot Path Transformation\n",
        "Scenario: A robot at position [2, 1] rotates 90° counterclockwise. What's the new position?"
      ],
      "metadata": {
        "id": "8f0kF6b6Z1XT"
      }
    },
    {
      "cell_type": "code",
      "source": [
        "inital_position = np.array([2,1])\n",
        "theta = np.radians(90)\n",
        "roatation = np.array([[np.cos(theta),-np.sin(theta)],[np.sin(theta),np.cos(theta)]])\n",
        "new_position = np.dot(roatation,inital_position)\n",
        "print(f\"new_position = {new_position}\")"
      ],
      "metadata": {
        "colab": {
          "base_uri": "https://localhost:8080/"
        },
        "id": "_0dznldpZwFD",
        "outputId": "727781d6-f872-4cb7-cbc1-982e542ee7d2"
      },
      "execution_count": null,
      "outputs": [
        {
          "output_type": "stream",
          "name": "stdout",
          "text": [
            "new_position = [-1.  2.]\n"
          ]
        }
      ]
    },
    {
      "cell_type": "markdown",
      "source": [
        "🧪 PART 3: Code Challenges 🔥\n",
        "✅ Challenge 1: Invert & Validate\n",
        "Given matrix A = [[4, 7], [2, 6]]:\n",
        "\n",
        "Compute inverse.\n",
        "\n",
        "Multiply A @ A_inv — should be identity."
      ],
      "metadata": {
        "id": "iPQREjgKcfPH"
      }
    },
    {
      "cell_type": "code",
      "source": [
        "a = np.array([[4,7],[2,6]])\n",
        "a_inv = np.linalg.inv(a)\n",
        "print(f\"inverse = {a_inv}\")\n",
        "print(f\"identity = {np.dot(a,a_inv)}\")"
      ],
      "metadata": {
        "colab": {
          "base_uri": "https://localhost:8080/"
        },
        "id": "XwpYYbqBcgvX",
        "outputId": "e42c2e40-579c-4696-850d-d839f7d7dbc9"
      },
      "execution_count": null,
      "outputs": [
        {
          "output_type": "stream",
          "name": "stdout",
          "text": [
            "inverse = [[ 0.6 -0.7]\n",
            " [-0.2  0.4]]\n",
            "identity = [[ 1.00000000e+00 -1.11022302e-16]\n",
            " [ 1.11022302e-16  1.00000000e+00]]\n"
          ]
        }
      ]
    },
    {
      "cell_type": "markdown",
      "source": [
        "✅ Challenge 2: Eigen Check\n",
        "Use this matrix:\n",
        "\n",
        "python\n",
        "Copy\n",
        "Edit\n",
        "B = np.array([[3, 1],\n",
        "              [1, 3]])\n",
        "Find eigenvalues & eigenvectors\n",
        "\n",
        "Multiply B @ eigenvector == eigenvalue * eigenvector?\n",
        "\n",
        "✅ Confirm this property using 1st eigenpair."
      ],
      "metadata": {
        "id": "srMu7oaKdvM5"
      }
    },
    {
      "cell_type": "code",
      "source": [
        "b = np.array([[3,1],[1,3]])\n",
        "eigenvalues,eigenvectors = np.linalg.eig(b)\n",
        "print(f\"eigenvalues = {eigenvalues}\")\n",
        "print(f\"eigenvectors = {eigenvectors}\")\n",
        "print(f\"is b@eigenvectoes == egienvalues * eigenvectors{b@eigenvectors==eigenvalues*eigenvectors}\")"
      ],
      "metadata": {
        "colab": {
          "base_uri": "https://localhost:8080/"
        },
        "id": "H_SP3oO-dwMj",
        "outputId": "cab8dddf-5d4f-4c6a-9cc9-4c1db29ac8e5"
      },
      "execution_count": null,
      "outputs": [
        {
          "output_type": "stream",
          "name": "stdout",
          "text": [
            "eigenvalues = [4. 2.]\n",
            "eigenvectors = [[ 0.70710678 -0.70710678]\n",
            " [ 0.70710678  0.70710678]]\n",
            "is b@eigenvectoes == egienvalues * eigenvectors[[ True  True]\n",
            " [ True  True]]\n"
          ]
        }
      ]
    },
    {
      "cell_type": "markdown",
      "source": [
        "✅ Challenge 3: Cross Product 3D Robot Arm\n",
        "Given robot arms as vectors:\n",
        "\n",
        "python\n",
        "Copy\n",
        "Edit\n",
        "a = [1, 0, 0]  # arm 1 along X-axis\n",
        "b = [0, 1, 0]  # arm 2 along Y-axis\n",
        "Find perpendicular direction using cross product\n",
        "\n",
        "Output should be in what direction?\n",
        "\n",
        "(Hint: Which axis is X × Y?)\n",
        "\n"
      ],
      "metadata": {
        "id": "omyxI_gyfZto"
      }
    },
    {
      "cell_type": "code",
      "source": [
        "a = np.array([1,0,0])\n",
        "b = np.array([0,1,0])\n",
        "c = np.cross(a,b)\n",
        "print(c)"
      ],
      "metadata": {
        "colab": {
          "base_uri": "https://localhost:8080/"
        },
        "id": "c12UGZTifa3z",
        "outputId": "a27048c0-962c-4f36-d7ee-1e0458a8b8f9"
      },
      "execution_count": null,
      "outputs": [
        {
          "output_type": "stream",
          "name": "stdout",
          "text": [
            "[0 0 1]\n"
          ]
        }
      ]
    },
    {
      "cell_type": "markdown",
      "source": [
        "✅ Task: Replace all odd numbers in a NumPy array with -1 (no loop)\n",
        "Example:\n",
        "Input:  arr = np.array([1, 2, 3, 4, 5])\n",
        "Output: [-1  2 -1  4 -1]"
      ],
      "metadata": {
        "id": "t0rT64VqPzvS"
      }
    },
    {
      "cell_type": "code",
      "source": [
        "arr = np.array([1,2,3,4,5])\n",
        "arr[arr % 2 == 1] = -1\n",
        "print(arr)"
      ],
      "metadata": {
        "colab": {
          "base_uri": "https://localhost:8080/"
        },
        "id": "k7TO97txP6NC",
        "outputId": "61100296-0208-4d73-e41a-11f9c1211d35"
      },
      "execution_count": null,
      "outputs": [
        {
          "output_type": "stream",
          "name": "stdout",
          "text": [
            "[-1  2 -1  4 -1]\n"
          ]
        }
      ]
    },
    {
      "cell_type": "markdown",
      "source": [
        "Code 2. Create a 3x3 identity matrix, and scale it by 5."
      ],
      "metadata": {
        "id": "2HBynN4YQr8U"
      }
    },
    {
      "cell_type": "code",
      "source": [
        "a = np.identity(3,dtype=np.int32)\n",
        "a"
      ],
      "metadata": {
        "colab": {
          "base_uri": "https://localhost:8080/"
        },
        "id": "UDIBvpwTQvxQ",
        "outputId": "cc2eca2d-e14b-45fa-aa40-8fd0b012b4e7"
      },
      "execution_count": null,
      "outputs": [
        {
          "output_type": "execute_result",
          "data": {
            "text/plain": [
              "array([[1, 0, 0],\n",
              "       [0, 1, 0],\n",
              "       [0, 0, 1]], dtype=int32)"
            ]
          },
          "metadata": {},
          "execution_count": 9
        }
      ]
    },
    {
      "cell_type": "markdown",
      "source": [
        "Code 3. Reverse a NumPy array without using slicing."
      ],
      "metadata": {
        "id": "J3rbuzTXRyjX"
      }
    },
    {
      "cell_type": "code",
      "source": [
        "arr = np.array([[1,2,3],[4,5,6]])\n",
        "print(np.flipud(arr))\n",
        "print(np.flip(arr))\n"
      ],
      "metadata": {
        "colab": {
          "base_uri": "https://localhost:8080/"
        },
        "id": "eOJXIlCfR5B6",
        "outputId": "bf2e69be-1ee2-487b-fd73-7088477de7c9"
      },
      "execution_count": null,
      "outputs": [
        {
          "output_type": "stream",
          "name": "stdout",
          "text": [
            "[[4 5 6]\n",
            " [1 2 3]]\n",
            "[[6 5 4]\n",
            " [3 2 1]]\n"
          ]
        }
      ]
    },
    {
      "cell_type": "markdown",
      "source": [
        "Given a matrix, subtract the mean of each row from every element in that row.\n",
        "\n"
      ],
      "metadata": {
        "id": "gJPSq2qSSdgv"
      }
    },
    {
      "cell_type": "code",
      "source": [
        "arr = np.arange(6).reshape(2,3)\n",
        "b = np.mean(arr,axis=1,keepdims = True)\n",
        "print(arr-b)"
      ],
      "metadata": {
        "colab": {
          "base_uri": "https://localhost:8080/"
        },
        "id": "adleA9GiSh6k",
        "outputId": "d51a3045-905c-4602-de5f-96920e0f81f0"
      },
      "execution_count": null,
      "outputs": [
        {
          "output_type": "stream",
          "name": "stdout",
          "text": [
            "[[-1.  0.  1.]\n",
            " [-1.  0.  1.]]\n"
          ]
        }
      ]
    },
    {
      "cell_type": "markdown",
      "source": [
        "🔹 PART 1: Copy vs View — Are You Holding the Same Sword?\n",
        "🎯 Problem:\n",
        "python\n",
        "Copy\n",
        "Edit\n",
        "import numpy as np\n",
        "\n",
        "a = np.array([1, 2, 3])\n",
        "b = a[1:]    # slicing\n",
        "b[0] = 99\n",
        "print(a)\n",
        "❓ What do you think this will print?\n",
        "\n"
      ],
      "metadata": {
        "id": "i1TiuFvXXUdU"
      }
    },
    {
      "cell_type": "code",
      "source": [
        "a =np.arange(3)\n",
        "print(a)\n",
        "'''b =a[1:]\n",
        "print(b)\n",
        "b[0]=99\n",
        "print(a)\n",
        "print(b)'''\n",
        "b =a[1:].copy()\n",
        "print(b)\n",
        "b[0]=99\n",
        "print(a)\n",
        "print(b)"
      ],
      "metadata": {
        "colab": {
          "base_uri": "https://localhost:8080/"
        },
        "id": "PiJujTMIXYm_",
        "outputId": "be00228b-f232-40e8-f737-d1f0b6a48b37"
      },
      "execution_count": null,
      "outputs": [
        {
          "output_type": "stream",
          "name": "stdout",
          "text": [
            "[0 1 2]\n",
            "[1 2]\n",
            "[0 1 2]\n",
            "[99  2]\n"
          ]
        }
      ]
    },
    {
      "cell_type": "markdown",
      "source": [
        "loop vs numpy opretions timeing diffrence are high"
      ],
      "metadata": {
        "id": "_K5nS6q4YNdS"
      }
    },
    {
      "cell_type": "code",
      "source": [
        "arr =np.random.randint(0,100,size = 1000000)\n",
        "\n",
        "def add_by_loop(arr):\n",
        "  return(x+1 for x in arr)\n",
        "def add_by_numpy(arr):\n",
        "  return(1+arr)\n",
        "%timeit add_by_loop(arr)\n",
        "%timeit add_by_numpy(arr)"
      ],
      "metadata": {
        "colab": {
          "base_uri": "https://localhost:8080/"
        },
        "id": "sOkOSPyrY3ij",
        "outputId": "43358fc6-fef4-44cb-c6ac-0cfcbc45f9df"
      },
      "execution_count": null,
      "outputs": [
        {
          "output_type": "stream",
          "name": "stdout",
          "text": [
            "688 ns ± 158 ns per loop (mean ± std. dev. of 7 runs, 1000000 loops each)\n",
            "775 µs ± 69.8 µs per loop (mean ± std. dev. of 7 runs, 1000 loops each)\n"
          ]
        }
      ]
    },
    {
      "cell_type": "markdown",
      "source": [
        "✅ Rule of Broadcasting\n",
        "NumPy compares dimensions from the end:\n",
        "\n",
        "Array A\t2\t3\n",
        "Array B\t1\t3\n",
        "\n",
        "If dimensions match or one is 1, it's OK ✅\n",
        "\n",
        "Otherwise: ❌ ValueError\n",
        "\n"
      ],
      "metadata": {
        "id": "yu4Y2SAyc8mJ"
      }
    },
    {
      "cell_type": "code",
      "source": [
        "a = np.array([1, 2, 3])   # shape (3,1)\n",
        "b = np.array([10, 20, 30])      # shape (3,)\n",
        "b = np.expand_dims(b,axis=1)\n",
        "print(a+b)\n",
        "# What will a + b do?\n",
        "print((a + b).shape)\n",
        "print(a + b)"
      ],
      "metadata": {
        "colab": {
          "base_uri": "https://localhost:8080/"
        },
        "id": "1X9rNfoKc99P",
        "outputId": "6e61aa04-e45b-45dd-ae1c-9d07c5737adb"
      },
      "execution_count": null,
      "outputs": [
        {
          "output_type": "stream",
          "name": "stdout",
          "text": [
            "[[11 12 13]\n",
            " [21 22 23]\n",
            " [31 32 33]]\n",
            "(3, 3)\n",
            "[[11 12 13]\n",
            " [21 22 23]\n",
            " [31 32 33]]\n"
          ]
        }
      ]
    },
    {
      "cell_type": "markdown",
      "source": [
        "✅ Challenge 4: Swap the first and last column in a 2D array\n",
        "python\n",
        "Copy\n",
        "Edit\n",
        "a = np.array([[1, 2, 3],\n",
        "              [4, 5, 6],\n",
        "              [7, 8, 9]])\n",
        "# Output:\n",
        "# [[3 2 1]\n",
        "#  [6 5 4]\n",
        "#  [9 8 7]]"
      ],
      "metadata": {
        "id": "j3s5KHMSkybm"
      }
    },
    {
      "cell_type": "code",
      "source": [
        "a = np.arange(1,10).reshape(3,3)\n",
        "print(np.fliplr(a))\n",
        "print(np.diag(np.fliplr(a)))\n"
      ],
      "metadata": {
        "colab": {
          "base_uri": "https://localhost:8080/"
        },
        "id": "YZuvhT8ekzXn",
        "outputId": "6dad6933-d126-4d79-9276-11ffeb1cca12"
      },
      "execution_count": null,
      "outputs": [
        {
          "output_type": "stream",
          "name": "stdout",
          "text": [
            "[[3 2 1]\n",
            " [6 5 4]\n",
            " [9 8 7]]\n"
          ]
        }
      ]
    },
    {
      "cell_type": "markdown",
      "source": [
        "✅ Challenge 5: Get the anti-diagonal of a matrix\n",
        "python\n",
        "Copy\n",
        "Edit\n",
        "a = np.array([[1, 2, 3],\n",
        "              [4, 5, 6],\n",
        "              [7, 8, 9]])\n",
        "# Output: [3 5 7]"
      ],
      "metadata": {
        "id": "sm_oCEUglZ-z"
      }
    },
    {
      "cell_type": "code",
      "source": [
        "a = np.arange(1,10).reshape(3,3)\n",
        "print(np.fliplr(a))\n",
        "print(np.diag(np.fliplr(a)))\n"
      ],
      "metadata": {
        "id": "rHKyhGs4lbK9"
      },
      "execution_count": null,
      "outputs": []
    },
    {
      "cell_type": "markdown",
      "source": [
        "✅ Challenge 6: Set all border elements of a 5x5 matrix to 1, rest 0\n",
        "python\n",
        "Copy\n",
        "Edit\n",
        "a = np.zeros((5, 5), dtype=int)\n",
        "# Output:\n",
        "# [[1 1 1 1 1]\n",
        "#  [1 0 0 0 1]\n",
        "#  [1 0 0 0 1]\n",
        "#  [1 0 0 0 1]\n",
        "#  [1 1 1 1 1]]"
      ],
      "metadata": {
        "id": "9cLzsh_ymMUG"
      }
    },
    {
      "cell_type": "code",
      "source": [
        "a =np.zeros((5,5),dtype=int)\n",
        "a[0,:] =1\n",
        "a[-1,:] =1\n",
        "a[:,0] =1\n",
        "a[:,-1] =1\n",
        "print(a)"
      ],
      "metadata": {
        "colab": {
          "base_uri": "https://localhost:8080/"
        },
        "id": "y9ATBOZgmaJ1",
        "outputId": "2e2b6c49-b94b-4050-87ed-db6821a51da3"
      },
      "execution_count": null,
      "outputs": [
        {
          "output_type": "stream",
          "name": "stdout",
          "text": [
            "[[1 1 1 1 1]\n",
            " [1 0 0 0 1]\n",
            " [1 0 0 0 1]\n",
            " [1 0 0 0 1]\n",
            " [1 1 1 1 1]]\n"
          ]
        }
      ]
    },
    {
      "cell_type": "markdown",
      "source": [
        "✅ Challenge 7: Extract every 2nd row and every 2nd column from a matrix\n",
        "python\n",
        "Copy\n",
        "Edit\n",
        "a = np.arange(36).reshape(6, 6)\n",
        "# Output should be a 3x3 matrix\n"
      ],
      "metadata": {
        "id": "A27YtDPZnmL1"
      }
    },
    {
      "cell_type": "code",
      "source": [
        "a =np.arange(36).reshape(6,6)\n",
        "print(a[0:6:2,0:6:2])\n"
      ],
      "metadata": {
        "colab": {
          "base_uri": "https://localhost:8080/"
        },
        "id": "i3uQlSp-nnZl",
        "outputId": "978d8908-b69b-4c1f-d6d4-b063499a7de7"
      },
      "execution_count": null,
      "outputs": [
        {
          "output_type": "stream",
          "name": "stdout",
          "text": [
            "[[ 0  2  4]\n",
            " [12 14 16]\n",
            " [24 26 28]]\n"
          ]
        }
      ]
    },
    {
      "cell_type": "markdown",
      "source": [
        "Given a = np.arange(1, 13).reshape(3, 4), compute:\n",
        "\n",
        "Row-wise sum\n",
        "\n",
        "Column-wise mean\n",
        "\n",
        "Global standard deviation\n",
        "\n",
        "Cumulative sum row-wise\n",
        "\n"
      ],
      "metadata": {
        "id": "PcJUBQEVqcgq"
      }
    },
    {
      "cell_type": "code",
      "source": [
        "a = np.arange(1,13).reshape(3,4)\n",
        "print(f\"sum by rows = {np.sum(a,axis=1)}\")\n",
        "print(f\" Column-wise mean = {np.mean(a,axis=1)}\")\n",
        "print(f\"std = {np.std(a)}\")\n",
        "print(f\"Cumulative sum row-wise{np.cumsum(a,axis=1)}\")"
      ],
      "metadata": {
        "colab": {
          "base_uri": "https://localhost:8080/"
        },
        "id": "2QSdPe4Lqd8A",
        "outputId": "76073a5a-b324-4dea-e367-9e694339a0cd"
      },
      "execution_count": null,
      "outputs": [
        {
          "output_type": "stream",
          "name": "stdout",
          "text": [
            "sum by rows = [10 26 42]\n",
            " Column-wise mean = [ 2.5  6.5 10.5]\n",
            "std = 3.452052529534663\n",
            "Cumulative sum row-wise[[ 1  3  6 10]\n",
            " [ 5 11 18 26]\n",
            " [ 9 19 30 42]]\n"
          ]
        }
      ]
    },
    {
      "cell_type": "markdown",
      "source": [
        "🎯 Challenge 2:\n",
        "Given:\n",
        "\n",
        "python\n",
        "Copy\n",
        "Edit\n",
        "a = np.array([[3, 7, 5],\n",
        "              [0, 2, 9],\n",
        "              [6, 1, 8]])\n",
        "Answer the following:\n",
        "\n",
        "In which rows is all elements > 2?\n",
        "\n",
        "In which columns is any element = 0?\n",
        "\n",
        "Is every element of the array less than 10?\n",
        "\n"
      ],
      "metadata": {
        "id": "hLeusAGGtSdY"
      }
    },
    {
      "cell_type": "code",
      "source": [
        "a = np.array([[3,7,5],[0,2,9],[6,1,8]])\n",
        "print(np.all(a>2,axis=1))\n",
        "print(np.any(a==0,axis=0))\n",
        "print(np.all(a<10))"
      ],
      "metadata": {
        "colab": {
          "base_uri": "https://localhost:8080/"
        },
        "id": "FwWTkzV6tTqt",
        "outputId": "6b63d65d-8067-4797-c94b-ce2f571054b5"
      },
      "execution_count": null,
      "outputs": [
        {
          "output_type": "stream",
          "name": "stdout",
          "text": [
            "[ True False False]\n",
            "[ True False False]\n",
            "True\n"
          ]
        }
      ]
    },
    {
      "cell_type": "markdown",
      "source": [
        "🎯 Challenge 3: Sorting + Ranking\n",
        "python\n",
        "Copy\n",
        "Edit\n",
        "a = np.array([[15, 3, 7],\n",
        "              [2, 25, 10],\n",
        "              [8, 18, 5]])\n",
        "Answer these:\n",
        "\n",
        "Sort each row.\n",
        "\n",
        "Sort each column.\n",
        "\n",
        "Find the indices that would sort row 1.\n",
        "\n",
        "Retrieve the ranked values from row 1 using those indices.\n",
        "\n"
      ],
      "metadata": {
        "id": "fLPOBbr0vaBy"
      }
    },
    {
      "cell_type": "code",
      "source": [
        "\n",
        "\n",
        "import numpy as np\n",
        "a = np.array([[15, 3, 7],\n",
        "              [2, 25, 10],\n",
        "              [8, 18, 5]])\n",
        "\n",
        "# Sort each row\n",
        "print(\"Sorted rows:\")\n",
        "print(np.sort(a, axis=1))\n",
        "\n",
        "# Sort each column\n",
        "print(\"\\nSorted columns:\")\n",
        "print(np.sort(a, axis=0))\n",
        "\n",
        "# Find the indices that would sort row 1\n",
        "row1_indices = np.argsort(a[0])\n",
        "print(\"\\nIndices that sort row 1:\")\n",
        "print(row1_indices)\n",
        "\n",
        "# Retrieve the ranked values from row 1 using those indices\n",
        "ranked_row1 = a[0][row1_indices]\n",
        "print(\"\\nRanked values from row 1:\")\n",
        "ranked_row1"
      ],
      "metadata": {
        "colab": {
          "base_uri": "https://localhost:8080/"
        },
        "id": "B0HDsyfQx94Y",
        "outputId": "5b5ad234-591b-4ac4-8771-96a6c4c28549"
      },
      "execution_count": null,
      "outputs": [
        {
          "output_type": "stream",
          "name": "stdout",
          "text": [
            "Sorted rows:\n",
            "[[ 3  7 15]\n",
            " [ 2 10 25]\n",
            " [ 5  8 18]]\n",
            "\n",
            "Sorted columns:\n",
            "[[ 2  3  5]\n",
            " [ 8 18  7]\n",
            " [15 25 10]]\n",
            "\n",
            "Indices that sort row 1:\n",
            "[1 2 0]\n",
            "\n",
            "Ranked values from row 1:\n"
          ]
        },
        {
          "output_type": "execute_result",
          "data": {
            "text/plain": [
              "array([ 3,  7, 15])"
            ]
          },
          "metadata": {},
          "execution_count": 53
        }
      ]
    },
    {
      "cell_type": "markdown",
      "source": [
        "**STASTITICS ON NUMPY**\n",
        "\n",
        "\n",
        "🧪 Challenge Time!\n",
        "python\n",
        "Copy\n",
        "Edit\n",
        "data = np.array([[5, 10, 15],\n",
        "                 [20, 25, 30],\n",
        "                 [35, 40, 45]])\n",
        "Answer:\n",
        "\n",
        "Find:\n",
        "\n",
        "Row-wise mean\n",
        "\n",
        "Column-wise std\n",
        "\n",
        "75th percentile of entire data\n",
        "\n",
        "Get the correlation coefficient of the first row and last row.\n",
        "\n"
      ],
      "metadata": {
        "id": "QruxwQJonUtf"
      }
    },
    {
      "cell_type": "code",
      "source": [
        "from posixpath import pathsep\n",
        "a = np.array([[5,10,15],[20,25,30],[35,40,45]])\n",
        "print(np.mean(a,axis=1))\n",
        "print(np.std(a,axis=1))\n",
        "print(np.percentile(a,75))\n",
        "print(np.corrcoef(a[0],a[-1]))"
      ],
      "metadata": {
        "colab": {
          "base_uri": "https://localhost:8080/"
        },
        "id": "oZzs2ng0nrq1",
        "outputId": "c806d25a-8762-4677-c2cd-246afd15b546"
      },
      "execution_count": null,
      "outputs": [
        {
          "output_type": "stream",
          "name": "stdout",
          "text": [
            "[10. 25. 40.]\n",
            "[4.0824829 4.0824829 4.0824829]\n",
            "35.0\n",
            "[[1. 1.]\n",
            " [1. 1.]]\n"
          ]
        }
      ]
    },
    {
      "cell_type": "markdown",
      "source": [
        "✅ Challenge 1: Student Scores Matrix\n",
        "python\n",
        "Copy\n",
        "Edit\n",
        "scores = np.array([\n",
        "    [85, 90, 92],\n",
        "    [78, 88, 84],\n",
        "    [90, 94, 96],\n",
        "    [70, 65, 60]\n",
        "])\n",
        "Answer the following:\n",
        "\n",
        "Find the mean score for each student (row-wise).\n",
        "\n",
        "Find the standard deviation for each subject (column-wise).\n",
        "\n",
        "How many students scored all marks above 80?\n",
        "\n",
        "Which subject (column) has the highest average score?\n",
        "\n",
        "What is the median of all scores?"
      ],
      "metadata": {
        "id": "Nf0tDITypoko"
      }
    },
    {
      "cell_type": "code",
      "source": [
        "socres = np.array([[85,90,92],[78,88,84],[90,94,96],[70,65,60]])\n",
        "print(np.mean(socres,axis=1))\n",
        "print(np.std(socres,axis=0))\n",
        "print(np.all(socres > 80,axis=1))\n",
        "high = np.median(socres,axis=0)\n",
        "print(np.max(high))\n",
        "print(np.median(socres))"
      ],
      "metadata": {
        "colab": {
          "base_uri": "https://localhost:8080/"
        },
        "id": "dAYvOmkQpqIl",
        "outputId": "cbf5544a-63e4-4253-c8fe-779fd98f63cb"
      },
      "execution_count": null,
      "outputs": [
        {
          "output_type": "stream",
          "name": "stdout",
          "text": [
            "[89.         83.33333333 93.33333333 65.        ]\n",
            "[ 7.52911017 11.32199187 13.96424004]\n",
            "[ True False  True False]\n",
            "89.0\n",
            "86.5\n"
          ]
        }
      ]
    },
    {
      "cell_type": "markdown",
      "source": [
        "✅ Challenge 2: Health Data Matrix\n",
        "python\n",
        "Copy\n",
        "Edit\n",
        "health = np.array([\n",
        "    [60, 120],   # [heart rate, systolic BP]\n",
        "    [72, 110],\n",
        "    [55, 140],\n",
        "    [65, 130]\n",
        "])\n",
        "Find the mean heart rate and blood pressure.\n",
        "\n",
        "Use np.all to check if all patients have heart rate > 50.\n",
        "\n",
        "Use np.any to check if any patient has BP > 135.\n",
        "\n",
        "Find the correlation coefficient between heart rate and BP.\n",
        "\n"
      ],
      "metadata": {
        "id": "xj18E29vsBuC"
      }
    },
    {
      "cell_type": "code",
      "source": [
        "health = np.array([[60,120],[72,110],[55,140],[65,130]])\n",
        "print(np.mean(health[:,0]),np.mean(health[:,1]))\n",
        "print(np.all(health[:,0]>50))\n",
        "print(np.any(health[:,1]>135))\n",
        "print(np.corrcoef(health[0],health[1]))"
      ],
      "metadata": {
        "colab": {
          "base_uri": "https://localhost:8080/"
        },
        "id": "lyJrUbF6sDP4",
        "outputId": "5927b0db-9e57-423f-b5ed-4eef3799c002"
      },
      "execution_count": null,
      "outputs": [
        {
          "output_type": "stream",
          "name": "stdout",
          "text": [
            "63.0 125.0\n",
            "True\n",
            "True\n",
            "[[1. 1.]\n",
            " [1. 1.]]\n"
          ]
        }
      ]
    },
    {
      "cell_type": "markdown",
      "source": [
        "✅ Challenge 3: Percentile + Cumulative Tricks\n",
        "python\n",
        "Copy\n",
        "Edit\n",
        "a = np.random.randint(1, 100, size=(5, 5))\n",
        "Find the 75th percentile row-wise.\n",
        "\n",
        "Compute the cumulative sum column-wise.\n",
        "\n",
        "Count how many elements in a are greater than the median.\n",
        "\n"
      ],
      "metadata": {
        "id": "y8oYgb9fvyBD"
      }
    },
    {
      "cell_type": "code",
      "source": [
        "a = np.random.randint(1,100,size=(5,5))\n",
        "print(a)\n",
        "print(np.percentile(a,75,axis=1))\n",
        "print(np.cumsum(a,axis=0))\n",
        "a_t = a[a > np.mean(a)]\n",
        "print(np.size(a_t))"
      ],
      "metadata": {
        "colab": {
          "base_uri": "https://localhost:8080/"
        },
        "id": "2coBPAHDvzGj",
        "outputId": "4294a3cf-fcd1-4561-ffc9-795c946bf98f"
      },
      "execution_count": null,
      "outputs": [
        {
          "output_type": "stream",
          "name": "stdout",
          "text": [
            "[[16 20 18 86 32]\n",
            " [46 47 47 35 99]\n",
            " [69 44 25 55 68]\n",
            " [73  1 56 71 11]\n",
            " [17 72 15  7 85]]\n",
            "[32. 47. 68. 71. 72.]\n",
            "[[ 16  20  18  86  32]\n",
            " [ 62  67  65 121 131]\n",
            " [131 111  90 176 199]\n",
            " [204 112 146 247 210]\n",
            " [221 184 161 254 295]]\n",
            "13\n"
          ]
        }
      ]
    },
    {
      "cell_type": "markdown",
      "source": [
        "🎯 CHALLENGE TIME: Linear Ops\n",
        "Use:\n",
        "\n",
        "python\n",
        "Copy\n",
        "Edit\n",
        "a = np.array([[1, 2], [3, 4]])\n",
        "b = np.array([[5, 6], [7, 8]])\n",
        "Answer these:\n",
        "\n",
        "Compute a @ b\n",
        "\n",
        "Compute the determinant of a\n",
        "\n",
        "Compute the inverse of a\n",
        "\n",
        "Verify a @ inv(a) equals identity\n",
        "\n",
        "What does np.dot(a, a.T) compute?\n",
        "\n"
      ],
      "metadata": {
        "id": "sVq2moG01f5T"
      }
    },
    {
      "cell_type": "code",
      "source": [
        "a = np.array([[1,2],[3,4]])\n",
        "b = np.array([[5,6],[7,8]])\n",
        "print(a@b)\n",
        "print(np.linalg.det(a))\n",
        "inv_a = np.linalg.inv(a)\n",
        "print(inv_a)\n",
        "print(np.identity(2) == np.dot(a,inv_a))\n",
        "print(np.dot(a,a.T))"
      ],
      "metadata": {
        "colab": {
          "base_uri": "https://localhost:8080/"
        },
        "id": "pGc8O2FT1hQg",
        "outputId": "ab86a472-5eec-4b04-d2b7-3a1cf6e2b664"
      },
      "execution_count": null,
      "outputs": [
        {
          "output_type": "stream",
          "name": "stdout",
          "text": [
            "[[19 22]\n",
            " [43 50]]\n",
            "-2.0000000000000004\n",
            "[[-2.   1. ]\n",
            " [ 1.5 -0.5]]\n",
            "[[ True  True]\n",
            " [False False]]\n",
            "[[ 5 11]\n",
            " [11 25]]\n"
          ]
        }
      ]
    },
    {
      "cell_type": "markdown",
      "source": [
        "🔹 Challenge B: Eigen Analysis\n",
        "python\n",
        "Copy\n",
        "Edit\n",
        "M = np.array([[2, 0],\n",
        "              [0, 3]])\n",
        "Get eigenvalues and eigenvectors\n",
        "\n",
        "Verify for first vector: Mv == λv\n",
        "\n",
        "Try diagonalization: P @ D @ P⁻¹ == M"
      ],
      "metadata": {
        "id": "bKUUMC0zB4hF"
      }
    },
    {
      "cell_type": "code",
      "source": [
        "M = np.array([[2,0],[0,3]])\n",
        "eigenvalues,eigenvectors = np.linalg.eig(M)\n",
        "e_v = eigenvectors[:,0].copy()\n",
        "print(e_v)\n",
        "print(np.allclose(M@eigenvectors,eigenvalues*eigenvectors))\n",
        "el=np.diag(eigenvalues)\n",
        "print(np.allclose(((M@el)@ (np.linalg.inv(M))) ,M))\n"
      ],
      "metadata": {
        "id": "04YWStqHG8Jn",
        "outputId": "2330cd9a-0534-4844-9525-9837b3cf171a",
        "colab": {
          "base_uri": "https://localhost:8080/"
        }
      },
      "execution_count": null,
      "outputs": [
        {
          "output_type": "stream",
          "name": "stdout",
          "text": [
            "[1. 0.]\n",
            "True\n",
            "True\n"
          ]
        }
      ]
    }
  ]
}